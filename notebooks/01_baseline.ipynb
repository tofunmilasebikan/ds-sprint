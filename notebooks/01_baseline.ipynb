{
 "cells": [
  {
   "cell_type": "code",
   "execution_count": 3,
   "id": "1f7209dc",
   "metadata": {},
   "outputs": [
    {
     "name": "stdout",
     "output_type": "stream",
     "text": [
      "Added to sys.path: /Users/toffs/ds-sprint\n"
     ]
    }
   ],
   "source": [
    "# Make the repo root importable so \"import src....\" works\n",
    "import sys\n",
    "from pathlib import Path\n",
    "\n",
    "ROOT = Path.cwd()\n",
    "while ROOT != ROOT.parent and not (ROOT / \"src\").exists():\n",
    "    ROOT = ROOT.parent\n",
    "sys.path.insert(0, str(ROOT))\n",
    "print(\"Added to sys.path:\", ROOT)\n"
   ]
  },
  {
   "cell_type": "code",
   "execution_count": 5,
   "id": "42c7e97d",
   "metadata": {},
   "outputs": [
    {
     "name": "stdout",
     "output_type": "stream",
     "text": [
      "Base exists: True\n",
      "Files in base: ['README.txt', 'links.csv', 'movies.csv', 'ratings.csv', 'tags.csv']\n",
      "ratings shape: (100836, 4)\n",
      "movies shape: (9742, 3)\n"
     ]
    },
    {
     "data": {
      "text/html": [
       "<div>\n",
       "<style scoped>\n",
       "    .dataframe tbody tr th:only-of-type {\n",
       "        vertical-align: middle;\n",
       "    }\n",
       "\n",
       "    .dataframe tbody tr th {\n",
       "        vertical-align: top;\n",
       "    }\n",
       "\n",
       "    .dataframe thead th {\n",
       "        text-align: right;\n",
       "    }\n",
       "</style>\n",
       "<table border=\"1\" class=\"dataframe\">\n",
       "  <thead>\n",
       "    <tr style=\"text-align: right;\">\n",
       "      <th></th>\n",
       "      <th>userId</th>\n",
       "      <th>movieId</th>\n",
       "      <th>rating</th>\n",
       "      <th>timestamp</th>\n",
       "    </tr>\n",
       "  </thead>\n",
       "  <tbody>\n",
       "    <tr>\n",
       "      <th>0</th>\n",
       "      <td>1</td>\n",
       "      <td>1</td>\n",
       "      <td>4.0</td>\n",
       "      <td>964982703</td>\n",
       "    </tr>\n",
       "    <tr>\n",
       "      <th>1</th>\n",
       "      <td>1</td>\n",
       "      <td>3</td>\n",
       "      <td>4.0</td>\n",
       "      <td>964981247</td>\n",
       "    </tr>\n",
       "    <tr>\n",
       "      <th>2</th>\n",
       "      <td>1</td>\n",
       "      <td>6</td>\n",
       "      <td>4.0</td>\n",
       "      <td>964982224</td>\n",
       "    </tr>\n",
       "    <tr>\n",
       "      <th>3</th>\n",
       "      <td>1</td>\n",
       "      <td>47</td>\n",
       "      <td>5.0</td>\n",
       "      <td>964983815</td>\n",
       "    </tr>\n",
       "    <tr>\n",
       "      <th>4</th>\n",
       "      <td>1</td>\n",
       "      <td>50</td>\n",
       "      <td>5.0</td>\n",
       "      <td>964982931</td>\n",
       "    </tr>\n",
       "  </tbody>\n",
       "</table>\n",
       "</div>"
      ],
      "text/plain": [
       "   userId  movieId  rating  timestamp\n",
       "0       1        1     4.0  964982703\n",
       "1       1        3     4.0  964981247\n",
       "2       1        6     4.0  964982224\n",
       "3       1       47     5.0  964983815\n",
       "4       1       50     5.0  964982931"
      ]
     },
     "execution_count": 5,
     "metadata": {},
     "output_type": "execute_result"
    }
   ],
   "source": [
    "from pathlib import Path\n",
    "from src.data.loaders import read_csv\n",
    "\n",
    "base = ROOT / \"data/raw/ml-latest-small\"\n",
    "print(\"Base exists:\", base.exists())\n",
    "if base.exists():\n",
    "    print(\"Files in base:\", sorted(p.name for p in base.iterdir())[:10])\n",
    "\n",
    "ratings = read_csv(base / \"ratings.csv\")\n",
    "movies  = read_csv(base / \"movies.csv\")\n",
    "\n",
    "print(\"ratings shape:\", ratings.shape)\n",
    "print(\"movies shape:\", movies.shape)\n",
    "ratings.head()\n",
    "\n"
   ]
  },
  {
   "cell_type": "code",
   "execution_count": 9,
   "id": "0463ca51",
   "metadata": {},
   "outputs": [
    {
     "name": "stdout",
     "output_type": "stream",
     "text": [
      "Train size: 100226 | Test users: 610\n"
     ]
    },
    {
     "data": {
      "text/html": [
       "<div>\n",
       "<style scoped>\n",
       "    .dataframe tbody tr th:only-of-type {\n",
       "        vertical-align: middle;\n",
       "    }\n",
       "\n",
       "    .dataframe tbody tr th {\n",
       "        vertical-align: top;\n",
       "    }\n",
       "\n",
       "    .dataframe thead th {\n",
       "        text-align: right;\n",
       "    }\n",
       "</style>\n",
       "<table border=\"1\" class=\"dataframe\">\n",
       "  <thead>\n",
       "    <tr style=\"text-align: right;\">\n",
       "      <th></th>\n",
       "      <th>userId</th>\n",
       "      <th>movieId</th>\n",
       "      <th>rating</th>\n",
       "      <th>timestamp</th>\n",
       "    </tr>\n",
       "  </thead>\n",
       "  <tbody>\n",
       "    <tr>\n",
       "      <th>0</th>\n",
       "      <td>1</td>\n",
       "      <td>1</td>\n",
       "      <td>4.0</td>\n",
       "      <td>964982703</td>\n",
       "    </tr>\n",
       "    <tr>\n",
       "      <th>1</th>\n",
       "      <td>1</td>\n",
       "      <td>3</td>\n",
       "      <td>4.0</td>\n",
       "      <td>964981247</td>\n",
       "    </tr>\n",
       "    <tr>\n",
       "      <th>2</th>\n",
       "      <td>1</td>\n",
       "      <td>6</td>\n",
       "      <td>4.0</td>\n",
       "      <td>964982224</td>\n",
       "    </tr>\n",
       "    <tr>\n",
       "      <th>3</th>\n",
       "      <td>1</td>\n",
       "      <td>47</td>\n",
       "      <td>5.0</td>\n",
       "      <td>964983815</td>\n",
       "    </tr>\n",
       "    <tr>\n",
       "      <th>4</th>\n",
       "      <td>1</td>\n",
       "      <td>50</td>\n",
       "      <td>5.0</td>\n",
       "      <td>964982931</td>\n",
       "    </tr>\n",
       "  </tbody>\n",
       "</table>\n",
       "</div>"
      ],
      "text/plain": [
       "   userId  movieId  rating  timestamp\n",
       "0       1        1     4.0  964982703\n",
       "1       1        3     4.0  964981247\n",
       "2       1        6     4.0  964982224\n",
       "3       1       47     5.0  964983815\n",
       "4       1       50     5.0  964982931"
      ]
     },
     "execution_count": 9,
     "metadata": {},
     "output_type": "execute_result"
    }
   ],
   "source": [
    "# Hold out each user's last interaction as test\n",
    "ratings_sorted = ratings.sort_values(['userId', 'timestamp'])\n",
    "last = ratings_sorted.groupby('userId').tail(1)\n",
    "\n",
    "# train = all interactions except each user's last one\n",
    "train = ratings.merge(last[['userId','movieId','timestamp']], how='left', indicator=True)\n",
    "train = train[train['_merge'] == 'left_only'].drop(columns=['_merge'])\n",
    "\n",
    "# Truth for evaluation (set of relevant items per user)\n",
    "import pandas as pd\n",
    "test_truth = last.groupby('userId')['movieId'].apply(set).reset_index(name='relevant')\n",
    "\n",
    "print(\"Train size:\", len(train), \"| Test users:\", len(test_truth))\n",
    "train.head()\n"
   ]
  },
  {
   "cell_type": "code",
   "execution_count": 10,
   "id": "47dfd0dc",
   "metadata": {},
   "outputs": [],
   "source": [
    "import numpy as np\n",
    "\n",
    "def apk(recommended, relevant, k=10):\n",
    "    score = 0.0; hits = 0\n",
    "    for i, item in enumerate(recommended[:k], start=1):\n",
    "        if item in relevant:\n",
    "            hits += 1\n",
    "            score += hits / i\n",
    "    return 0.0 if not relevant else score / min(len(relevant), k)\n",
    "\n",
    "def mapk(recommended_lists, relevant_sets, k=10):\n",
    "    return float(np.mean([apk(r, rel, k) for r, rel in zip(recommended_lists, relevant_sets)]))\n",
    "\n",
    "def dcg_at_k(recommended, relevant, k=10):\n",
    "    dcg = 0.0\n",
    "    for i, item in enumerate(recommended[:k], start=1):\n",
    "        if item in relevant:\n",
    "            dcg += 1.0 / np.log2(i + 1)\n",
    "    return dcg\n",
    "\n",
    "def idcg_at_k(n_rel, k=10):\n",
    "    n = min(n_rel, k)\n",
    "    return sum(1.0 / np.log2(i + 1) for i in range(1, n + 1))\n",
    "\n",
    "def ndcg_at_k(recommended, relevant, k=10):\n",
    "    idcg = idcg_at_k(len(relevant), k)\n",
    "    return 0.0 if idcg == 0 else dcg_at_k(recommended, relevant, k) / idcg\n",
    "    "
   ]
  },
  {
   "cell_type": "code",
   "execution_count": 11,
   "id": "524da338",
   "metadata": {},
   "outputs": [
    {
     "name": "stdout",
     "output_type": "stream",
     "text": [
      "{'MAP@10': 0.0125, 'NDCG@10': 0.0194}\n"
     ]
    }
   ],
   "source": [
    "# Popularity baseline + evaluation\n",
    "pop = train.groupby('movieId').size().sort_values(ascending=False).index.tolist()\n",
    "user_seen = train.groupby('userId')['movieId'].apply(set).to_dict()\n",
    "\n",
    "K = 10\n",
    "recs, rels = [], []\n",
    "for uid, relset in zip(test_truth['userId'], test_truth['relevant']):\n",
    "    seen = user_seen.get(uid, set())\n",
    "    recommended = [m for m in pop if m not in seen][:K]\n",
    "    recs.append(recommended); rels.append(relset)\n",
    "\n",
    "map10  = mapk(recs, rels, K)\n",
    "ndcg10 = float(np.mean([ndcg_at_k(r, rel, K) for r, rel in zip(recs, rels)]))\n",
    "print({\"MAP@10\": round(map10, 4), \"NDCG@10\": round(ndcg10, 4)})\n"
   ]
  },
  {
   "cell_type": "code",
   "execution_count": 13,
   "id": "dff1351b",
   "metadata": {},
   "outputs": [
    {
     "data": {
      "image/png": "[encoded data removed]",
      "text/plain": [
       "<Figure size 640x480 with 1 Axes>"
      ]
     },
     "metadata": {},
     "output_type": "display_data"
    },
    {
     "name": "stdout",
     "output_type": "stream",
     "text": [
      "Saved plot + CSV to reports/ and projects/01_recommender/assets/\n"
     ]
    }
   ],
   "source": [
    "import os, matplotlib.pyplot as plt\n",
    "import pandas as pd\n",
    "\n",
    "# where to save\n",
    "os.makedirs(\"projects/01_recommender/assets\", exist_ok=True)  # tracked in git\n",
    "os.makedirs(\"reports\", exist_ok=True)                         # ignored by git\n",
    "\n",
    "# bar chart (hero plot)\n",
    "fig = plt.figure()\n",
    "plt.bar([\"MAP@10\",\"NDCG@10\"], [map10, ndcg10])\n",
    "plt.title(\"Baseline popularity recommender\")\n",
    "plt.ylim(0, max(map10, ndcg10)*1.3 + 1e-6)\n",
    "plt.tight_layout()\n",
    "\n",
    "# save images\n",
    "fig.savefig(\"reports/p1_baseline_metrics.png\", dpi=150)\n",
    "fig.savefig(\"projects/01_recommender/assets/p1_baseline_metrics.png\", dpi=150)\n",
    "plt.show()\n",
    "\n",
    "# metrics table\n",
    "mtx = pd.DataFrame(\n",
    "    [{\"metric\":\"MAP@10\",\"value\":float(map10)},\n",
    "     {\"metric\":\"NDCG@10\",\"value\":float(ndcg10)}]\n",
    ")\n",
    "mtx.to_csv(\"reports/p1_baseline_metrics.csv\", index=False)\n",
    "mtx.to_csv(\"projects/01_recommender/assets/p1_baseline_metrics.csv\", index=False)\n",
    "\n",
    "print(\"Saved plot + CSV to reports/ and projects/01_recommender/assets/\")\n"
   ]
  }
 ],
 "metadata": {
  "kernelspec": {
   "display_name": ".venv",
   "language": "python",
   "name": "python3"
  },
  "language_info": {
   "codemirror_mode": {
    "name": "ipython",
    "version": 3
   },
   "file_extension": ".py",
   "mimetype": "text/x-python",
   "name": "python",
   "nbconvert_exporter": "python",
   "pygments_lexer": "ipython3",
   "version": "3.9.12"
  }
 },
 "nbformat": 4,
 "nbformat_minor": 5
}
